{
  "cells": [
    {
      "cell_type": "code",
      "execution_count": 7,
      "metadata": {
        "id": "sVYbpZRY0Ogl"
      },
      "outputs": [],
      "source": [
        "import pandas as pd\n",
        "import matplotlib.pyplot as plt\n",
        "import seaborn as sns\n",
        "from scipy.stats import chi2_contingency"
      ]
    },
    {
      "cell_type": "code",
      "execution_count": null,
      "metadata": {
        "id": "gCzU3lMa0Yrc"
      },
      "outputs": [],
      "source": [
        "file_path = r'silk-survey.xlsx'"
      ]
    },
    {
      "cell_type": "code",
      "execution_count": 9,
      "metadata": {
        "id": "WdztboVv0i1s"
      },
      "outputs": [],
      "source": [
        "df = pd.read_excel(file_path)"
      ]
    },
    {
      "cell_type": "code",
      "execution_count": 10,
      "metadata": {
        "colab": {
          "base_uri": "https://localhost:8080/",
          "height": 417
        },
        "id": "2QOO912F1VVW",
        "outputId": "a68756f9-aa16-4180-b823-db46d8134a5f"
      },
      "outputs": [
        {
          "data": {
            "text/html": [
              "<div>\n",
              "<style scoped>\n",
              "    .dataframe tbody tr th:only-of-type {\n",
              "        vertical-align: middle;\n",
              "    }\n",
              "\n",
              "    .dataframe tbody tr th {\n",
              "        vertical-align: top;\n",
              "    }\n",
              "\n",
              "    .dataframe thead th {\n",
              "        text-align: right;\n",
              "    }\n",
              "</style>\n",
              "<table border=\"1\" class=\"dataframe\">\n",
              "  <thead>\n",
              "    <tr style=\"text-align: right;\">\n",
              "      <th></th>\n",
              "      <th>age</th>\n",
              "      <th>gender</th>\n",
              "      <th>profession</th>\n",
              "      <th>location</th>\n",
              "      <th>wornSilk</th>\n",
              "      <th>frequency</th>\n",
              "      <th>types</th>\n",
              "      <th>occasions</th>\n",
              "      <th>purchaseSource</th>\n",
              "      <th>budget</th>\n",
              "      <th>purchasePreference</th>\n",
              "      <th>qualityOpinion</th>\n",
              "      <th>priceVsQuality</th>\n",
              "      <th>productIssue</th>\n",
              "      <th>knowGI</th>\n",
              "      <th>seenVideo</th>\n",
              "      <th>promoUseful</th>\n",
              "      <th>buyOnline</th>\n",
              "    </tr>\n",
              "  </thead>\n",
              "  <tbody>\n",
              "    <tr>\n",
              "      <th>0</th>\n",
              "      <td>18–25</td>\n",
              "      <td>Male</td>\n",
              "      <td>Student</td>\n",
              "      <td>Rajshahi</td>\n",
              "      <td>No</td>\n",
              "      <td>Never</td>\n",
              "      <td>Never Used</td>\n",
              "      <td>Never Used</td>\n",
              "      <td>Never bought</td>\n",
              "      <td>1000–3000 BDT</td>\n",
              "      <td>Quality</td>\n",
              "      <td>Average</td>\n",
              "      <td>No</td>\n",
              "      <td>Yes</td>\n",
              "      <td>Yes</td>\n",
              "      <td>Yes</td>\n",
              "      <td>Extremely helpful</td>\n",
              "      <td>Yes</td>\n",
              "    </tr>\n",
              "    <tr>\n",
              "      <th>1</th>\n",
              "      <td>18–25</td>\n",
              "      <td>Male</td>\n",
              "      <td>Student</td>\n",
              "      <td>Rajshahi</td>\n",
              "      <td>No</td>\n",
              "      <td>Never</td>\n",
              "      <td>Never Used</td>\n",
              "      <td>Never Used</td>\n",
              "      <td>Rajshahi Silk Emporium</td>\n",
              "      <td>1000–3000 BDT</td>\n",
              "      <td>Price</td>\n",
              "      <td>Good</td>\n",
              "      <td>Yes</td>\n",
              "      <td>No</td>\n",
              "      <td>No</td>\n",
              "      <td>Yes</td>\n",
              "      <td>Helpful</td>\n",
              "      <td>No</td>\n",
              "    </tr>\n",
              "    <tr>\n",
              "      <th>2</th>\n",
              "      <td>18–25</td>\n",
              "      <td>Male</td>\n",
              "      <td>Student</td>\n",
              "      <td>Rajshahi</td>\n",
              "      <td>No</td>\n",
              "      <td>Never</td>\n",
              "      <td>Never Used</td>\n",
              "      <td>Never Used</td>\n",
              "      <td>Never bought</td>\n",
              "      <td>Above 5000 BDT</td>\n",
              "      <td>Other</td>\n",
              "      <td>Don't know</td>\n",
              "      <td>Not sure</td>\n",
              "      <td>No</td>\n",
              "      <td>No</td>\n",
              "      <td>Yes</td>\n",
              "      <td>Helpful</td>\n",
              "      <td>Yes</td>\n",
              "    </tr>\n",
              "    <tr>\n",
              "      <th>3</th>\n",
              "      <td>18–25</td>\n",
              "      <td>Female</td>\n",
              "      <td>Student</td>\n",
              "      <td>Rajshahi</td>\n",
              "      <td>Yes</td>\n",
              "      <td>Rarely</td>\n",
              "      <td>Kameez</td>\n",
              "      <td>Casual use</td>\n",
              "      <td>Boutique or brand shop</td>\n",
              "      <td>1000–3000 BDT</td>\n",
              "      <td>Quality</td>\n",
              "      <td>Good</td>\n",
              "      <td>Not sure</td>\n",
              "      <td>No</td>\n",
              "      <td>Yes</td>\n",
              "      <td>No</td>\n",
              "      <td>Neutral</td>\n",
              "      <td>No</td>\n",
              "    </tr>\n",
              "    <tr>\n",
              "      <th>4</th>\n",
              "      <td>18–25</td>\n",
              "      <td>Female</td>\n",
              "      <td>Student</td>\n",
              "      <td>Rajshahi</td>\n",
              "      <td>No</td>\n",
              "      <td>Never</td>\n",
              "      <td>Never Used</td>\n",
              "      <td>Never Used</td>\n",
              "      <td>Never bought</td>\n",
              "      <td>Less than 1000 BDT</td>\n",
              "      <td>Price</td>\n",
              "      <td>Average</td>\n",
              "      <td>No</td>\n",
              "      <td>No</td>\n",
              "      <td>No</td>\n",
              "      <td>Yes</td>\n",
              "      <td>Neutral</td>\n",
              "      <td>No</td>\n",
              "    </tr>\n",
              "  </tbody>\n",
              "</table>\n",
              "</div>"
            ],
            "text/plain": [
              "     age  gender profession  location wornSilk frequency       types  \\\n",
              "0  18–25    Male    Student  Rajshahi       No     Never  Never Used   \n",
              "1  18–25    Male    Student  Rajshahi       No     Never  Never Used   \n",
              "2  18–25    Male    Student  Rajshahi       No     Never  Never Used   \n",
              "3  18–25  Female    Student  Rajshahi      Yes    Rarely      Kameez   \n",
              "4  18–25  Female    Student  Rajshahi       No     Never  Never Used   \n",
              "\n",
              "    occasions          purchaseSource              budget purchasePreference  \\\n",
              "0  Never Used            Never bought       1000–3000 BDT            Quality   \n",
              "1  Never Used  Rajshahi Silk Emporium       1000–3000 BDT              Price   \n",
              "2  Never Used            Never bought      Above 5000 BDT              Other   \n",
              "3  Casual use  Boutique or brand shop       1000–3000 BDT            Quality   \n",
              "4  Never Used            Never bought  Less than 1000 BDT              Price   \n",
              "\n",
              "  qualityOpinion priceVsQuality productIssue knowGI seenVideo  \\\n",
              "0        Average             No          Yes    Yes       Yes   \n",
              "1           Good            Yes           No     No       Yes   \n",
              "2     Don't know       Not sure           No     No       Yes   \n",
              "3           Good       Not sure           No    Yes        No   \n",
              "4        Average             No           No     No       Yes   \n",
              "\n",
              "         promoUseful buyOnline  \n",
              "0  Extremely helpful       Yes  \n",
              "1            Helpful        No  \n",
              "2            Helpful       Yes  \n",
              "3            Neutral        No  \n",
              "4            Neutral        No  "
            ]
          },
          "execution_count": 10,
          "metadata": {},
          "output_type": "execute_result"
        }
      ],
      "source": [
        "df.head(5)"
      ]
    },
    {
      "cell_type": "code",
      "execution_count": 36,
      "metadata": {},
      "outputs": [
        {
          "data": {
            "text/plain": [
              "(132, 18)"
            ]
          },
          "execution_count": 36,
          "metadata": {},
          "output_type": "execute_result"
        }
      ],
      "source": [
        "df.shape"
      ]
    },
    {
      "cell_type": "markdown",
      "metadata": {
        "id": "x2DfbHfm147X"
      },
      "source": [
        "# 1. Is there an age-based difference in Rajshahi Silk usage?"
      ]
    },
    {
      "cell_type": "code",
      "execution_count": 11,
      "metadata": {
        "id": "_I81m0qi1ZOF"
      },
      "outputs": [],
      "source": [
        "ct_age_use = pd.crosstab(df['age'], df['wornSilk'])"
      ]
    },
    {
      "cell_type": "code",
      "execution_count": 12,
      "metadata": {
        "colab": {
          "base_uri": "https://localhost:8080/",
          "height": 206
        },
        "id": "2I3AoAFh2cXX",
        "outputId": "c1a436c7-d8a5-4e65-c103-8af90bb669cb"
      },
      "outputs": [
        {
          "data": {
            "text/html": [
              "<div>\n",
              "<style scoped>\n",
              "    .dataframe tbody tr th:only-of-type {\n",
              "        vertical-align: middle;\n",
              "    }\n",
              "\n",
              "    .dataframe tbody tr th {\n",
              "        vertical-align: top;\n",
              "    }\n",
              "\n",
              "    .dataframe thead th {\n",
              "        text-align: right;\n",
              "    }\n",
              "</style>\n",
              "<table border=\"1\" class=\"dataframe\">\n",
              "  <thead>\n",
              "    <tr style=\"text-align: right;\">\n",
              "      <th>wornSilk</th>\n",
              "      <th>No</th>\n",
              "      <th>Yes</th>\n",
              "    </tr>\n",
              "    <tr>\n",
              "      <th>age</th>\n",
              "      <th></th>\n",
              "      <th></th>\n",
              "    </tr>\n",
              "  </thead>\n",
              "  <tbody>\n",
              "    <tr>\n",
              "      <th>18–25</th>\n",
              "      <td>54</td>\n",
              "      <td>60</td>\n",
              "    </tr>\n",
              "    <tr>\n",
              "      <th>26–35</th>\n",
              "      <td>5</td>\n",
              "      <td>9</td>\n",
              "    </tr>\n",
              "    <tr>\n",
              "      <th>36–50</th>\n",
              "      <td>1</td>\n",
              "      <td>1</td>\n",
              "    </tr>\n",
              "    <tr>\n",
              "      <th>Above 50</th>\n",
              "      <td>1</td>\n",
              "      <td>1</td>\n",
              "    </tr>\n",
              "  </tbody>\n",
              "</table>\n",
              "</div>"
            ],
            "text/plain": [
              "wornSilk  No  Yes\n",
              "age              \n",
              "18–25     54   60\n",
              "26–35      5    9\n",
              "36–50      1    1\n",
              "Above 50   1    1"
            ]
          },
          "execution_count": 12,
          "metadata": {},
          "output_type": "execute_result"
        }
      ],
      "source": [
        "ct_age_use"
      ]
    },
    {
      "cell_type": "code",
      "execution_count": 13,
      "metadata": {
        "id": "MGOn83ey2dm_"
      },
      "outputs": [],
      "source": [
        "ct_age_use_prop = pd.crosstab(df['age'], df['wornSilk'], normalize='index').round(3) * 100"
      ]
    },
    {
      "cell_type": "code",
      "execution_count": 14,
      "metadata": {
        "colab": {
          "base_uri": "https://localhost:8080/",
          "height": 206
        },
        "id": "S5r_0_Tv2oAd",
        "outputId": "ffedc8d4-612f-4792-e8d4-17f651faaf91"
      },
      "outputs": [
        {
          "data": {
            "text/html": [
              "<div>\n",
              "<style scoped>\n",
              "    .dataframe tbody tr th:only-of-type {\n",
              "        vertical-align: middle;\n",
              "    }\n",
              "\n",
              "    .dataframe tbody tr th {\n",
              "        vertical-align: top;\n",
              "    }\n",
              "\n",
              "    .dataframe thead th {\n",
              "        text-align: right;\n",
              "    }\n",
              "</style>\n",
              "<table border=\"1\" class=\"dataframe\">\n",
              "  <thead>\n",
              "    <tr style=\"text-align: right;\">\n",
              "      <th>wornSilk</th>\n",
              "      <th>No</th>\n",
              "      <th>Yes</th>\n",
              "    </tr>\n",
              "    <tr>\n",
              "      <th>age</th>\n",
              "      <th></th>\n",
              "      <th></th>\n",
              "    </tr>\n",
              "  </thead>\n",
              "  <tbody>\n",
              "    <tr>\n",
              "      <th>18–25</th>\n",
              "      <td>47.4</td>\n",
              "      <td>52.6</td>\n",
              "    </tr>\n",
              "    <tr>\n",
              "      <th>26–35</th>\n",
              "      <td>35.7</td>\n",
              "      <td>64.3</td>\n",
              "    </tr>\n",
              "    <tr>\n",
              "      <th>36–50</th>\n",
              "      <td>50.0</td>\n",
              "      <td>50.0</td>\n",
              "    </tr>\n",
              "    <tr>\n",
              "      <th>Above 50</th>\n",
              "      <td>50.0</td>\n",
              "      <td>50.0</td>\n",
              "    </tr>\n",
              "  </tbody>\n",
              "</table>\n",
              "</div>"
            ],
            "text/plain": [
              "wornSilk    No   Yes\n",
              "age                 \n",
              "18–25     47.4  52.6\n",
              "26–35     35.7  64.3\n",
              "36–50     50.0  50.0\n",
              "Above 50  50.0  50.0"
            ]
          },
          "execution_count": 14,
          "metadata": {},
          "output_type": "execute_result"
        }
      ],
      "source": [
        "ct_age_use_prop"
      ]
    },
    {
      "cell_type": "code",
      "execution_count": 15,
      "metadata": {
        "colab": {
          "base_uri": "https://localhost:8080/",
          "height": 607
        },
        "id": "CNma5S6K2yXD",
        "outputId": "f5e68720-ccfa-49ef-e798-98feb499b5e5"
      },
      "outputs": [
        {
          "data": {
            "image/png": "[encoded data removed]",
            "text/plain": [
              "<Figure size 1000x600 with 1 Axes>"
            ]
          },
          "metadata": {},
          "output_type": "display_data"
        }
      ],
      "source": [
        "# Plot a bar chart for the proportions\n",
        "ct_age_use_prop.plot(kind='bar', stacked=False, figsize=(10, 6), color=['#FF9999', '#66B2FF'])\n",
        "plt.title('Proportion of Rajshahi Silk Usage by Age Group')\n",
        "plt.xlabel('Age Group')\n",
        "plt.ylabel('Proportion')\n",
        "plt.legend(title='Worn Silk')\n",
        "plt.xticks(rotation=45)\n",
        "plt.tight_layout()\n",
        "plt.show()"
      ]
    },
    {
      "cell_type": "markdown",
      "metadata": {
        "id": "hvcUgTa0uStM"
      },
      "source": [
        "# 2. Proportion of Rajshahi Silk Usage by Gender"
      ]
    },
    {
      "cell_type": "code",
      "execution_count": 16,
      "metadata": {
        "colab": {
          "base_uri": "https://localhost:8080/"
        },
        "id": "ITX7iGuMw_zo",
        "outputId": "a7bf3031-848e-4782-ed1e-2a8effabc368"
      },
      "outputs": [
        {
          "name": "stdout",
          "output_type": "stream",
          "text": [
            "Proportion of Rajshahi Silk Usage by Gender (%):\n",
            "wornSilk    No   Yes\n",
            "gender              \n",
            "Female    23.9  76.1\n",
            "Male      72.1  27.9\n",
            "Chi² statistic = 28.743\n",
            "P-value: 0.0000\n"
          ]
        }
      ],
      "source": [
        "# Create a crosstab for gender vs. wornSilk with proportions\n",
        "ct_gender_use_prop = pd.crosstab(df['gender'], df['wornSilk'], normalize='index').round(3) * 100\n",
        "\n",
        "# Perform chi-square test\n",
        "chi2, p, dof, expected = chi2_contingency(pd.crosstab(df['gender'], df['wornSilk']))\n",
        "\n",
        "# Display the crosstab (proportions)\n",
        "print(\"Proportion of Rajshahi Silk Usage by Gender (%):\")\n",
        "print(ct_gender_use_prop)\n",
        "\n",
        "# Display chi-square test results\n",
        "print(f\"Chi² statistic = {chi2:.3f}\")\n",
        "print(f\"P-value: {p:.4f}\")"
      ]
    },
    {
      "cell_type": "markdown",
      "metadata": {
        "id": "R6tH47hayB1o"
      },
      "source": [
        "# 3. Proportion of Rajshahi Silk Usage by Profession"
      ]
    },
    {
      "cell_type": "code",
      "execution_count": 17,
      "metadata": {
        "colab": {
          "base_uri": "https://localhost:8080/"
        },
        "id": "h7w1Tk1Wxu1i",
        "outputId": "9c00f933-eb57-49dc-99d4-e36d91f318d2"
      },
      "outputs": [
        {
          "name": "stdout",
          "output_type": "stream",
          "text": [
            "Proportion of Rajshahi Silk Usage by Profession (%):\n",
            "wornSilk           No   Yes\n",
            "profession                 \n",
            "Businessperson  100.0   0.0\n",
            "Housewife        25.0  75.0\n",
            "Other            25.0  75.0\n",
            "Service Holder   75.0  25.0\n",
            "Student          45.8  54.2\n",
            "Chi² statistic = 5.119\n",
            "P-value: 0.2753\n"
          ]
        }
      ],
      "source": [
        "# Create a crosstab for profession vs. wornSilk with proportions\n",
        "ct_profession_use_prop = pd.crosstab(df['profession'], df['wornSilk'], normalize='index').round(3) * 100\n",
        "\n",
        "# Perform chi-square test\n",
        "chi2, p, dof, expected = chi2_contingency(pd.crosstab(df['profession'], df['wornSilk']))\n",
        "\n",
        "# Display the crosstab (proportions)\n",
        "print(\"Proportion of Rajshahi Silk Usage by Profession (%):\")\n",
        "print(ct_profession_use_prop)\n",
        "\n",
        "# Display chi-square test results\n",
        "print(f\"Chi² statistic = {chi2:.3f}\")\n",
        "print(f\"P-value: {p:.4f}\")"
      ]
    },
    {
      "cell_type": "markdown",
      "metadata": {
        "id": "aRcy3ITGzpLv"
      },
      "source": [
        "# 4. Proportion of Purchase Source by Age and Gender Group"
      ]
    },
    {
      "cell_type": "code",
      "execution_count": 18,
      "metadata": {
        "colab": {
          "base_uri": "https://localhost:8080/"
        },
        "id": "DF6Q_WvKzuEm",
        "outputId": "2a5d4fa8-f618-413d-e2bf-4e37a61dad50"
      },
      "outputs": [
        {
          "name": "stdout",
          "output_type": "stream",
          "text": [
            "Proportion of Purchase Source by Age Group (%):\n",
            "purchaseSource  Boutique or brand shop  Local market  Never bought  \\\n",
            "age                                                                  \n",
            "18–25                              7.9          10.5          31.6   \n",
            "26–35                              7.1          21.4          21.4   \n",
            "36–50                              0.0           0.0          50.0   \n",
            "Above 50                          50.0          50.0           0.0   \n",
            "\n",
            "purchaseSource  Online store  Rajshahi Silk Emporium  \n",
            "age                                                   \n",
            "18–25                    7.9                    42.1  \n",
            "26–35                   28.6                    21.4  \n",
            "36–50                    0.0                    50.0  \n",
            "Above 50                 0.0                     0.0  \n",
            "\n",
            "Chi-Square Test Results for Age vs. Purchase Source:\n",
            "Chi² statistic = 17.544\n",
            "Degrees of freedom = 12\n",
            "P-value = 0.1303\n",
            "\n",
            "Proportion of Purchase Source by Gender (%):\n",
            "purchaseSource  Boutique or brand shop  Local market  Never bought  \\\n",
            "gender                                                               \n",
            "Female                            12.7          15.5          12.7   \n",
            "Male                               3.3           8.2          50.8   \n",
            "\n",
            "purchaseSource  Online store  Rajshahi Silk Emporium  \n",
            "gender                                                \n",
            "Female                  11.3                    47.9  \n",
            "Male                     8.2                    29.5  \n",
            "\n",
            "Chi-Square Test Results for Gender vs. Purchase Source:\n",
            "Chi² statistic = 23.799\n",
            "Degrees of freedom = 4\n",
            "P-value = 0.0001\n"
          ]
        }
      ],
      "source": [
        "# Crosstab with proportions (%)\n",
        "ct_age_purchase_prop = pd.crosstab(df['age'], df['purchaseSource'], normalize='index').round(3) * 100\n",
        "ct_gender_purchase_prop = pd.crosstab(df['gender'], df['purchaseSource'], normalize='index').round(3) * 100\n",
        "\n",
        "# Crosstab with counts (for chi-square test)\n",
        "ct_age_counts = pd.crosstab(df['age'], df['purchaseSource'])\n",
        "ct_gender_counts = pd.crosstab(df['gender'], df['purchaseSource'])\n",
        "\n",
        "# Perform chi-square tests\n",
        "chi2_age, p_age, dof_age, expected_age = chi2_contingency(ct_age_counts)\n",
        "chi2_gender, p_gender, dof_gender, expected_gender = chi2_contingency(ct_gender_counts)\n",
        "\n",
        "# Display Age vs. Purchase Source\n",
        "print(\"Proportion of Purchase Source by Age Group (%):\")\n",
        "print(ct_age_purchase_prop)\n",
        "\n",
        "print(\"\\nChi-Square Test Results for Age vs. Purchase Source:\")\n",
        "print(f\"Chi² statistic = {chi2_age:.3f}\")\n",
        "print(f\"Degrees of freedom = {dof_age}\")\n",
        "print(f\"P-value = {p_age:.4f}\")\n",
        "\n",
        "# Display Gender vs. Purchase Source\n",
        "print(\"\\nProportion of Purchase Source by Gender (%):\")\n",
        "print(ct_gender_purchase_prop)\n",
        "\n",
        "print(\"\\nChi-Square Test Results for Gender vs. Purchase Source:\")\n",
        "print(f\"Chi² statistic = {chi2_gender:.3f}\")\n",
        "print(f\"Degrees of freedom = {dof_gender}\")\n",
        "print(f\"P-value = {p_gender:.4f}\")\n"
      ]
    },
    {
      "cell_type": "markdown",
      "metadata": {
        "id": "N81Fv0FY2Uky"
      },
      "source": [
        "#5. calculate the frequency of each occasion among respondents who have worn silk"
      ]
    },
    {
      "cell_type": "code",
      "execution_count": 19,
      "metadata": {
        "colab": {
          "base_uri": "https://localhost:8080/"
        },
        "id": "DIWMlTD_2OkQ",
        "outputId": "d4dbb697-a245-426d-e362-92542087cf5d"
      },
      "outputs": [
        {
          "name": "stdout",
          "output_type": "stream",
          "text": [
            "Frequency and Proportion of Rajshahi Silk Usage by Occasion (%):\n",
            "col_0          count  proportion\n",
            "occasions                       \n",
            "Casual use         8        11.3\n",
            "Daily              1         1.4\n",
            "Festival          22        31.0\n",
            "Other              9        12.7\n",
            "Party              1         1.4\n",
            "Special event     25        35.2\n",
            "Wedding            5         7.0\n"
          ]
        }
      ],
      "source": [
        "# Filter for respondents who have worn silk\n",
        "df_silk_users = df[df['wornSilk'] == 'Yes']\n",
        "\n",
        "# Create a crosstab for occasions with counts\n",
        "ct_occasions = pd.crosstab(index=df_silk_users['occasions'], columns='count')\n",
        "\n",
        "# Calculate proportions\n",
        "ct_occasions['proportion'] = (ct_occasions['count'] / ct_occasions['count'].sum()).round(3) * 100\n",
        "\n",
        "# Display the results\n",
        "print(\"Frequency and Proportion of Rajshahi Silk Usage by Occasion (%):\")\n",
        "print(ct_occasions)"
      ]
    },
    {
      "cell_type": "markdown",
      "metadata": {
        "id": "ZLK5VAnN3oSG"
      },
      "source": [
        "# 6. most popular type of Rajshahi silk"
      ]
    },
    {
      "cell_type": "code",
      "execution_count": 20,
      "metadata": {
        "colab": {
          "base_uri": "https://localhost:8080/"
        },
        "id": "mjfAGuvj2VTs",
        "outputId": "9a2a1c07-5ca1-4270-fcc6-da7f51d7fa9a"
      },
      "outputs": [
        {
          "name": "stdout",
          "output_type": "stream",
          "text": [
            "Frequency and Proportion of Rajshahi Silk Types (%):\n",
            "             Count  Proportion (%)\n",
            "types                             \n",
            "Never Used      47          35.606\n",
            "Saree           46          34.848\n",
            "Panjabi         18          13.636\n",
            "Three-piece      7           5.303\n",
            "Kameez           5           3.788\n",
            "Shirt            4           3.030\n",
            "Scarf            3           2.273\n",
            "Other            2           1.515\n"
          ]
        }
      ],
      "source": [
        "# Count the frequency of each silk type\n",
        "type_counts = df['types'].value_counts()\n",
        "\n",
        "# Calculate proportions\n",
        "total = len(df)\n",
        "type_proportions = (type_counts / total * 100).round(3)\n",
        "\n",
        "# Combine counts and proportions\n",
        "result = pd.DataFrame({'Count': type_counts, 'Proportion (%)': type_proportions})\n",
        "\n",
        "print(\"Frequency and Proportion of Rajshahi Silk Types (%):\")\n",
        "print(result)"
      ]
    },
    {
      "cell_type": "markdown",
      "metadata": {
        "id": "PEgcppiL5QVR"
      },
      "source": [
        "# 7. Where do they usually prefer to buy silk from?"
      ]
    },
    {
      "cell_type": "code",
      "execution_count": 21,
      "metadata": {
        "colab": {
          "base_uri": "https://localhost:8080/"
        },
        "id": "-QI3Ab965gOt",
        "outputId": "13ecb5db-d197-4ed2-9506-f123e9562b47"
      },
      "outputs": [
        {
          "name": "stdout",
          "output_type": "stream",
          "text": [
            "Frequency and Proportion of Purchase Source for Rajshahi Silk (%):\n",
            "col_0                   count  proportion\n",
            "purchaseSource                           \n",
            "Boutique or brand shop     11        12.0\n",
            "Local market               16        17.4\n",
            "Online store               13        14.1\n",
            "Rajshahi Silk Emporium     52        56.5\n"
          ]
        }
      ],
      "source": [
        "# Filter out respondents who never bought silk\n",
        "df_buyers = df[df['purchaseSource'] != 'Never bought']\n",
        "\n",
        "# Create a crosstab for purchaseSource with counts and proportions\n",
        "ct_purchase_source = pd.crosstab(index=df_buyers['purchaseSource'], columns='count')\n",
        "ct_purchase_source['proportion'] = (ct_purchase_source['count'] / ct_purchase_source['count'].sum()).round(3) * 100\n",
        "\n",
        "# Display the results\n",
        "print(\"Frequency and Proportion of Purchase Source for Rajshahi Silk (%):\")\n",
        "print(ct_purchase_source)"
      ]
    },
    {
      "cell_type": "markdown",
      "metadata": {
        "id": "6uyKxd0C81fL"
      },
      "source": [
        "# 8. What do they prioritize the most—quality, price, design, brand, or tradition?"
      ]
    },
    {
      "cell_type": "code",
      "execution_count": 22,
      "metadata": {
        "colab": {
          "base_uri": "https://localhost:8080/"
        },
        "id": "40cL9lNl91HG",
        "outputId": "a132bae9-843c-4d16-8416-4358bf629e08"
      },
      "outputs": [
        {
          "name": "stdout",
          "output_type": "stream",
          "text": [
            "Frequency and Proportion of Purchase Preference for Rajshahi Silk (%):\n",
            "col_0               count  proportion\n",
            "purchasePreference                   \n",
            "Color                   5         3.8\n",
            "Durability              3         2.3\n",
            "Other                   5         3.8\n",
            "Price                  16        12.1\n",
            "Quality               103        78.0\n"
          ]
        }
      ],
      "source": [
        "\n",
        "# Create a crosstab for purchasePreference with counts and proportions\n",
        "ct_preference = pd.crosstab(index=df['purchasePreference'], columns='count')\n",
        "ct_preference['proportion'] = (ct_preference['count'] / ct_preference['count'].sum()).round(3) * 100\n",
        "\n",
        "# Display the results\n",
        "print(\"Frequency and Proportion of Purchase Preference for Rajshahi Silk (%):\")\n",
        "print(ct_preference)"
      ]
    },
    {
      "cell_type": "markdown",
      "metadata": {
        "id": "qoneXFs_-Ac4"
      },
      "source": [
        "#9. To what extent do consumers perceive the quality of Rajshahi silk to be consistent with its price?"
      ]
    },
    {
      "cell_type": "code",
      "execution_count": 23,
      "metadata": {
        "colab": {
          "base_uri": "https://localhost:8080/"
        },
        "id": "EkU0a8RW-Xs3",
        "outputId": "3ee1b7c8-f6a5-4671-9be6-536edadf7310"
      },
      "outputs": [
        {
          "name": "stdout",
          "output_type": "stream",
          "text": [
            "Frequency and Proportion of Consumer Perception of Rajshahi Silk Price vs. Quality (%):\n",
            "col_0           count  proportion\n",
            "priceVsQuality                   \n",
            "No                 33        25.0\n",
            "Not sure           50        37.9\n",
            "Yes                49        37.1\n"
          ]
        }
      ],
      "source": [
        "# Create a crosstab for priceVsQuality with counts and proportions\n",
        "ct_price_vs_quality = pd.crosstab(index=df['priceVsQuality'], columns='count')\n",
        "ct_price_vs_quality['proportion'] = (ct_price_vs_quality['count'] / ct_price_vs_quality['count'].sum()).round(3) * 100\n",
        "\n",
        "# Display the results\n",
        "print(\"Frequency and Proportion of Consumer Perception of Rajshahi Silk Price vs. Quality (%):\")\n",
        "print(ct_price_vs_quality)"
      ]
    },
    {
      "cell_type": "markdown",
      "metadata": {
        "id": "dwONlqKB-mbY"
      },
      "source": [
        "# 10. Which factor plays the biggest role in consumer satisfaction—design, price, tradition, or brand?"
      ]
    },
    {
      "cell_type": "code",
      "execution_count": 24,
      "metadata": {
        "colab": {
          "base_uri": "https://localhost:8080/"
        },
        "id": "OD-YYLzP-7lY",
        "outputId": "6cd7114c-743c-4678-e4dd-76d516e2517e"
      },
      "outputs": [
        {
          "name": "stdout",
          "output_type": "stream",
          "text": [
            "Frequency and Proportion of Factors Influencing Consumer Satisfaction (%):\n",
            "col_0               count  proportion\n",
            "purchasePreference                   \n",
            "Color                   5         3.8\n",
            "Durability              3         2.3\n",
            "Other                   5         3.8\n",
            "Price                  16        12.1\n",
            "Quality               103        78.0\n"
          ]
        }
      ],
      "source": [
        "# Create a crosstab for purchasePreference with counts and proportions\n",
        "ct_preference = pd.crosstab(index=df['purchasePreference'], columns='count')\n",
        "ct_preference['proportion'] = (ct_preference['count'] / ct_preference['count'].sum()).round(3) * 100\n",
        "\n",
        "# Display the results\n",
        "print(\"Frequency and Proportion of Factors Influencing Consumer Satisfaction (%):\")\n",
        "print(ct_preference)"
      ]
    },
    {
      "cell_type": "markdown",
      "metadata": {
        "id": "FLcgrhXUAJFP"
      },
      "source": [
        "#11. What is the rate of awareness regarding the GI (Geographical Indication) tag of Rajshahi silk?"
      ]
    },
    {
      "cell_type": "code",
      "execution_count": 25,
      "metadata": {
        "colab": {
          "base_uri": "https://localhost:8080/"
        },
        "id": "ha-_yJ2G--VJ",
        "outputId": "76b0618a-e89b-4576-edfa-286a362f79ec"
      },
      "outputs": [
        {
          "name": "stdout",
          "output_type": "stream",
          "text": [
            "Frequency and Proportion of Awareness of Rajshahi Silk GI Tag (%):\n",
            "        Count  Proportion (%)\n",
            "knowGI                       \n",
            "Yes        84          63.636\n",
            "No         48          36.364\n"
          ]
        }
      ],
      "source": [
        "# Calculate awareness rate for GI tag\n",
        "gi_awareness_count = df['knowGI'].value_counts()\n",
        "gi_awareness_prop = (df['knowGI'].value_counts(normalize=True) * 100).round(3)\n",
        "\n",
        "result = pd.DataFrame({'Count': gi_awareness_count, 'Proportion (%)': gi_awareness_prop})\n",
        "\n",
        "print(\"Frequency and Proportion of Awareness of Rajshahi Silk GI Tag (%):\")\n",
        "print(result)"
      ]
    },
    {
      "cell_type": "markdown",
      "metadata": {
        "id": "eLt5e_HhAUIQ"
      },
      "source": [
        "# 12. Does awareness of the GI (Geographical Indication) tag influence silk purchasing behavior?"
      ]
    },
    {
      "cell_type": "code",
      "execution_count": 26,
      "metadata": {
        "colab": {
          "base_uri": "https://localhost:8080/"
        },
        "id": "__cfon5nAj7-",
        "outputId": "0f7c067a-217c-4432-9346-3d6f6153aef2"
      },
      "outputs": [
        {
          "name": "stdout",
          "output_type": "stream",
          "text": [
            "Proportion of Silk Purchase Behavior by GI Tag Awareness (%):\n",
            "wornSilk    No   Yes\n",
            "knowGI              \n",
            "No        58.3  41.7\n",
            "Yes       39.3  60.7\n",
            "Chi² statistic = 3.725\n",
            "P-value: 0.0536\n"
          ]
        }
      ],
      "source": [
        "# Create a crosstab for knowGI vs. wornSilk with proportions\n",
        "ct_gi_purchase = pd.crosstab(df['knowGI'], df['wornSilk'], normalize='index').round(3) * 100\n",
        "\n",
        "# Perform chi-square test\n",
        "chi2, p, dof, expected = chi2_contingency(pd.crosstab(df['knowGI'], df['wornSilk']))\n",
        "\n",
        "# Display the crosstab (proportions)\n",
        "print(\"Proportion of Silk Purchase Behavior by GI Tag Awareness (%):\")\n",
        "print(ct_gi_purchase)\n",
        "\n",
        "# Display chi-square test results\n",
        "print(f\"Chi² statistic = {chi2:.3f}\")\n",
        "print(f\"P-value: {p:.4f}\")"
      ]
    },
    {
      "cell_type": "markdown",
      "metadata": {
        "id": "6sbcYMgbCb8A"
      },
      "source": [
        "#13. Does the habit of watching videos about Rajshahi silk on Facebook or YouTube influence the interest in online purchasing?"
      ]
    },
    {
      "cell_type": "code",
      "execution_count": 27,
      "metadata": {
        "colab": {
          "base_uri": "https://localhost:8080/"
        },
        "id": "L5tr9hJ5Av3z",
        "outputId": "4f54c62c-7b48-425b-fd18-976c1d0c0bae"
      },
      "outputs": [
        {
          "name": "stdout",
          "output_type": "stream",
          "text": [
            "Proportion of Online Buying Interest by Video Watching Habit (%):\n",
            "buyOnline    No   Yes\n",
            "seenVideo            \n",
            "No         60.0  40.0\n",
            "Yes        39.1  60.9\n",
            "Chi² statistic = 4.092\n",
            "P-value: 0.0431\n"
          ]
        }
      ],
      "source": [
        "# Create a crosstab for seenVideo vs. buyOnline with proportions\n",
        "ct_video_buy = pd.crosstab(df['seenVideo'], df['buyOnline'], normalize='index').round(3) * 100\n",
        "\n",
        "# Perform chi-square test\n",
        "chi2, p, dof, expected = chi2_contingency(pd.crosstab(df['seenVideo'], df['buyOnline']))\n",
        "\n",
        "# Display the crosstab (proportions)\n",
        "print(\"Proportion of Online Buying Interest by Video Watching Habit (%):\")\n",
        "print(ct_video_buy)\n",
        "\n",
        "# Display chi-square test results\n",
        "print(f\"Chi² statistic = {chi2:.3f}\")\n",
        "print(f\"P-value: {p:.4f}\")"
      ]
    },
    {
      "cell_type": "markdown",
      "metadata": {
        "id": "9fRtMr-XDAaY"
      },
      "source": [
        "# 14. How helpful is digital media (e.g., Facebook/YouTube) in promoting Rajshahi silk?"
      ]
    },
    {
      "cell_type": "code",
      "execution_count": 28,
      "metadata": {
        "colab": {
          "base_uri": "https://localhost:8080/"
        },
        "id": "bHiqmH6aChOs",
        "outputId": "70744d3d-b02d-411c-8e65-e1d9ee5eee00"
      },
      "outputs": [
        {
          "name": "stdout",
          "output_type": "stream",
          "text": [
            "Frequency and Proportion of Perceived Helpfulness of Digital Media for Rajshahi Silk Promotion (%):\n",
            "col_0               count  proportion\n",
            "promoUseful                          \n",
            "Extremely helpful      24        18.2\n",
            "Helpful                63        47.7\n",
            "Neutral                32        24.2\n",
            "Not helpful             6         4.5\n",
            "Not helpful at all      7         5.3\n"
          ]
        }
      ],
      "source": [
        "# Create a crosstab for promoUseful with counts and proportions\n",
        "ct_promo_useful = pd.crosstab(index=df['promoUseful'], columns='count')\n",
        "ct_promo_useful['proportion'] = (ct_promo_useful['count'] / ct_promo_useful['count'].sum()).round(3) * 100\n",
        "\n",
        "# Display the results\n",
        "print(\"Frequency and Proportion of Perceived Helpfulness of Digital Media for Rajshahi Silk Promotion (%):\")\n",
        "print(ct_promo_useful)"
      ]
    },
    {
      "cell_type": "markdown",
      "metadata": {
        "id": "JT34v8nTDQ0J"
      },
      "source": [
        "# 15. Is there any difference in interest in online purchasing based on age?\n"
      ]
    },
    {
      "cell_type": "code",
      "execution_count": 29,
      "metadata": {
        "colab": {
          "base_uri": "https://localhost:8080/"
        },
        "id": "EfPiBoDIDIDz",
        "outputId": "06dce737-0caa-425a-b795-748fb83ac52b"
      },
      "outputs": [
        {
          "name": "stdout",
          "output_type": "stream",
          "text": [
            "Proportion of Online Buying Interest by Age Group (%):\n",
            "buyOnline     No   Yes\n",
            "age                   \n",
            "18–25       47.4  52.6\n",
            "26–35       21.4  78.6\n",
            "36–50      100.0   0.0\n",
            "Above 50    50.0  50.0\n",
            "Chi² statistic = 5.845\n",
            "P-value: 0.1194\n"
          ]
        }
      ],
      "source": [
        "# Create a crosstab for age vs. buyOnline with proportions\n",
        "ct_age_buyonline = pd.crosstab(df['age'], df['buyOnline'], normalize='index').round(3) * 100\n",
        "\n",
        "# Perform chi-square test\n",
        "chi2, p, dof, expected = chi2_contingency(pd.crosstab(df['age'], df['buyOnline']))\n",
        "\n",
        "# Display the crosstab (proportions)\n",
        "print(\"Proportion of Online Buying Interest by Age Group (%):\")\n",
        "print(ct_age_buyonline)\n",
        "\n",
        "# Display chi-square test results\n",
        "print(f\"Chi² statistic = {chi2:.3f}\")\n",
        "print(f\"P-value: {p:.4f}\")"
      ]
    },
    {
      "cell_type": "markdown",
      "metadata": {
        "id": "xqdyk00JEAzx"
      },
      "source": [
        "# 16. Which age or profession group shows the most interest in purchasing Rajshahi silk online?"
      ]
    },
    {
      "cell_type": "code",
      "execution_count": 30,
      "metadata": {
        "colab": {
          "base_uri": "https://localhost:8080/"
        },
        "id": "enEEuNX9D0Ku",
        "outputId": "b983608b-a702-405c-b9fe-f93ebee935a6"
      },
      "outputs": [
        {
          "name": "stdout",
          "output_type": "stream",
          "text": [
            "Proportion of Online Buying Interest by Age Group (%):\n",
            "buyOnline     No   Yes\n",
            "age                   \n",
            "18–25       47.4  52.6\n",
            "26–35       21.4  78.6\n",
            "36–50      100.0   0.0\n",
            "Above 50    50.0  50.0\n",
            "\n",
            "Proportion of Online Buying Interest by Profession (%):\n",
            "buyOnline         No   Yes\n",
            "profession                \n",
            "Businessperson  50.0  50.0\n",
            "Housewife       50.0  50.0\n",
            "Other           25.0  75.0\n",
            "Service Holder  50.0  50.0\n",
            "Student         45.8  54.2\n"
          ]
        }
      ],
      "source": [
        "# Create a crosstab for age vs. buyOnline with proportions\n",
        "ct_age_buyonline = pd.crosstab(df['age'], df['buyOnline'], normalize='index').round(3) * 100\n",
        "\n",
        "# Create a crosstab suntfor profession vs. buyOnline with proportions\n",
        "ct_profession_buyonline = pd.crosstab(df['profession'], df['buyOnline'], normalize='index').round(3) * 100\n",
        "\n",
        "# Display the results\n",
        "print(\"Proportion of Online Buying Interest by Age Group (%):\")\n",
        "print(ct_age_buyonline)\n",
        "print(\"\\nProportion of Online Buying Interest by Profession (%):\")\n",
        "print(ct_profession_buyonline)"
      ]
    },
    {
      "cell_type": "markdown",
      "metadata": {
        "id": "IudBf6odEhGh"
      },
      "source": [
        "# 17 . Have you ever faced any issue with durability or color?"
      ]
    },
    {
      "cell_type": "code",
      "execution_count": 31,
      "metadata": {
        "colab": {
          "base_uri": "https://localhost:8080/"
        },
        "id": "KUP0OONBEUYn",
        "outputId": "8be34ca7-f044-468d-9d97-26d76e68c73f"
      },
      "outputs": [
        {
          "name": "stdout",
          "output_type": "stream",
          "text": [
            "Frequency and Proportion of Problems with Rajshahi Silk (%):\n",
            "col_0         count  proportion\n",
            "productIssue                   \n",
            "No              114        86.4\n",
            "Yes              18        13.6\n"
          ]
        }
      ],
      "source": [
        "import pandas as pd\n",
        "\n",
        "# Create a crosstab for productIssue with counts and proportions\n",
        "ct_issues = pd.crosstab(index=df['productIssue'], columns='count')\n",
        "ct_issues['proportion'] = (ct_issues['count'] / ct_issues['count'].sum()).round(3) * 100\n",
        "\n",
        "# Display the results\n",
        "print(\"Frequency and Proportion of Problems with Rajshahi Silk (%):\")\n",
        "print(ct_issues)"
      ]
    },
    {
      "cell_type": "markdown",
      "metadata": {
        "id": "oHc6rB6UGQmC"
      },
      "source": [
        "# 18. What is the main reason for those who do not use Rajshahi silk?"
      ]
    },
    {
      "cell_type": "code",
      "execution_count": 32,
      "metadata": {
        "colab": {
          "base_uri": "https://localhost:8080/"
        },
        "id": "ygq-P1AbFh0w",
        "outputId": "c8d5508c-6aee-4e2f-c21e-0296e088f88c"
      },
      "outputs": [
        {
          "name": "stdout",
          "output_type": "stream",
          "text": [
            "Number of non-users: 61\n",
            "\n",
            "Budget among non-users (%):\n",
            "col_0               count  proportion (%)\n",
            "budget                                   \n",
            "1000–3000 BDT          26          42.623\n",
            "3000–5000 BDT           9          14.754\n",
            "Above 5000 BDT          6           9.836\n",
            "Less than 1000 BDT     20          32.787\n",
            "\n",
            "Quality Opinion among non-users (%):\n",
            "col_0           count  proportion (%)\n",
            "qualityOpinion                       \n",
            "Average            10          16.393\n",
            "Don't know         21          34.426\n",
            "Excellent          17          27.869\n",
            "Good               11          18.033\n",
            "Poor                2           3.279\n",
            "\n",
            "Price vs Quality among non-users (%):\n",
            "col_0           count  proportion (%)\n",
            "priceVsQuality                       \n",
            "No                 15          24.590\n",
            "Not sure           34          55.738\n",
            "Yes                12          19.672\n",
            "\n",
            "Product Issue among non-users (%):\n",
            "col_0         count  proportion (%)\n",
            "productIssue                       \n",
            "No               51          83.607\n",
            "Yes              10          16.393\n"
          ]
        }
      ],
      "source": [
        "# Filter for respondents who do not use Rajshahi silk\n",
        "df_non_users = df[df['wornSilk'] == 'No']\n",
        "\n",
        "# Analyze possible reasons via crosstabs (budget, quality opinion, price vs quality, product issue)\n",
        "ct_budget_non = pd.crosstab(df_non_users['budget'], columns='count')\n",
        "ct_budget_non['proportion (%)'] = (ct_budget_non['count'] / len(df_non_users) * 100).round(3)\n",
        "\n",
        "ct_quality_non = pd.crosstab(df_non_users['qualityOpinion'], columns='count')\n",
        "ct_quality_non['proportion (%)'] = (ct_quality_non['count'] / len(df_non_users) * 100).round(3)\n",
        "\n",
        "ct_price_non = pd.crosstab(df_non_users['priceVsQuality'], columns='count')\n",
        "ct_price_non['proportion (%)'] = (ct_price_non['count'] / len(df_non_users) * 100).round(3)\n",
        "\n",
        "ct_issue_non = pd.crosstab(df_non_users['productIssue'], columns='count')\n",
        "ct_issue_non['proportion (%)'] = (ct_issue_non['count'] / len(df_non_users) * 100).round(3)\n",
        "\n",
        "# Display results\n",
        "print(\"Number of non-users:\", len(df_non_users))\n",
        "print(\"\\nBudget among non-users (%):\")\n",
        "print(ct_budget_non)\n",
        "print(\"\\nQuality Opinion among non-users (%):\")\n",
        "print(ct_quality_non)\n",
        "print(\"\\nPrice vs Quality among non-users (%):\")\n",
        "print(ct_price_non)\n",
        "print(\"\\nProduct Issue among non-users (%):\")\n",
        "print(ct_issue_non)"
      ]
    },
    {
      "cell_type": "markdown",
      "metadata": {
        "id": "nl6AFW9kHkP9"
      },
      "source": [
        "#19. Do previous negative experiences (e.g., high price, color fading) influence the tendency for long-term silk usage?"
      ]
    },
    {
      "cell_type": "code",
      "execution_count": 33,
      "metadata": {
        "colab": {
          "base_uri": "https://localhost:8080/"
        },
        "id": "bezj3KqwHpMY",
        "outputId": "58cf3d6f-d97e-4dea-cf74-96bba18b74b7"
      },
      "outputs": [
        {
          "name": "stdout",
          "output_type": "stream",
          "text": [
            "Proportion of Long-Term Silk Usage by Product Issue (%):\n",
            "frequency     Rarely  Regularly  Sometimes\n",
            "productIssue                              \n",
            "No              46.0        1.6       52.4\n",
            "Yes             12.5       25.0       62.5\n",
            "\n",
            "Chi-Square Test for Product Issue vs. Frequency:\n",
            "Chi² statistic = 11.234\n",
            "Degrees of freedom = 2\n",
            "P-value = 0.0036\n",
            "\n",
            "Proportion of Long-Term Silk Usage by Price vs. Quality Perception (%):\n",
            "frequency       Rarely  Regularly  Sometimes\n",
            "priceVsQuality                              \n",
            "No                61.1        5.6       33.3\n",
            "Not sure          31.2        6.2       62.5\n",
            "Yes               37.8        2.7       59.5\n",
            "\n",
            "Chi-Square Test for Price vs. Quality vs. Frequency:\n",
            "Chi² statistic = 4.433\n",
            "Degrees of freedom = 4\n",
            "P-value = 0.3505\n"
          ]
        }
      ],
      "source": [
        "# Filter for respondents who have used silk\n",
        "df_users = df[df['wornSilk'] == 'Yes']\n",
        "\n",
        "# Crosstabs with proportions (%)\n",
        "ct_issue_freq = pd.crosstab(df_users['productIssue'], df_users['frequency'], normalize='index').round(3) * 100\n",
        "ct_price_quality_freq = pd.crosstab(df_users['priceVsQuality'], df_users['frequency'], normalize='index').round(3) * 100\n",
        "\n",
        "# Crosstabs with counts (for chi-square test)\n",
        "ct_issue_counts = pd.crosstab(df_users['productIssue'], df_users['frequency'])\n",
        "ct_price_quality_counts = pd.crosstab(df_users['priceVsQuality'], df_users['frequency'])\n",
        "\n",
        "# Perform chi-square tests\n",
        "chi2_issue, p_issue, dof_issue, expected_issue = chi2_contingency(ct_issue_counts)\n",
        "chi2_price_quality, p_price_quality, dof_price_quality, expected_price_quality = chi2_contingency(ct_price_quality_counts)\n",
        "\n",
        "# Display results\n",
        "print(\"Proportion of Long-Term Silk Usage by Product Issue (%):\")\n",
        "print(ct_issue_freq)\n",
        "\n",
        "print(\"\\nChi-Square Test for Product Issue vs. Frequency:\")\n",
        "print(f\"Chi² statistic = {chi2_issue:.3f}\")\n",
        "print(f\"Degrees of freedom = {dof_issue}\")\n",
        "print(f\"P-value = {p_issue:.4f}\")\n",
        "\n",
        "print(\"\\nProportion of Long-Term Silk Usage by Price vs. Quality Perception (%):\")\n",
        "print(ct_price_quality_freq)\n",
        "\n",
        "print(\"\\nChi-Square Test for Price vs. Quality vs. Frequency:\")\n",
        "print(f\"Chi² statistic = {chi2_price_quality:.3f}\")\n",
        "print(f\"Degrees of freedom = {dof_price_quality}\")\n",
        "print(f\"P-value = {p_price_quality:.4f}\")\n"
      ]
    },
    {
      "cell_type": "markdown",
      "metadata": {
        "id": "DQp0pHpeIHXY"
      },
      "source": [
        "#20. Which customer group (by age/profession) has the highest potential for online purchase of Rajshahi silk?"
      ]
    },
    {
      "cell_type": "code",
      "execution_count": 34,
      "metadata": {
        "colab": {
          "base_uri": "https://localhost:8080/"
        },
        "id": "xIY9YqjoHuK5",
        "outputId": "d3c94478-a446-4cd9-c77a-a645844f38f2"
      },
      "outputs": [
        {
          "name": "stdout",
          "output_type": "stream",
          "text": [
            "Proportion of Online Purchase Interest by Age Group (%):\n",
            "buyOnline     No   Yes\n",
            "age                   \n",
            "18–25       47.4  52.6\n",
            "26–35       21.4  78.6\n",
            "36–50      100.0   0.0\n",
            "Above 50    50.0  50.0\n",
            "\n",
            "Proportion of Online Purchase Interest by Profession (%):\n",
            "buyOnline         No   Yes\n",
            "profession                \n",
            "Businessperson  50.0  50.0\n",
            "Housewife       50.0  50.0\n",
            "Other           25.0  75.0\n",
            "Service Holder  50.0  50.0\n",
            "Student         45.8  54.2\n"
          ]
        }
      ],
      "source": [
        "# Create crosstab for age vs buyOnline with proportions\n",
        "ct_age_buy = pd.crosstab(df['age'], df['buyOnline'], normalize='index').round(3) * 100\n",
        "\n",
        "# Create crosstab for profession vs buyOnline with proportions\n",
        "ct_profession_buy = pd.crosstab(df['profession'], df['buyOnline'], normalize='index').round(3) * 100\n",
        "\n",
        "# Display results\n",
        "print(\"Proportion of Online Purchase Interest by Age Group (%):\")\n",
        "print(ct_age_buy)\n",
        "print(\"\\nProportion of Online Purchase Interest by Profession (%):\")\n",
        "print(ct_profession_buy)"
      ]
    },
    {
      "cell_type": "markdown",
      "metadata": {
        "id": "YVngFGK2IeTo"
      },
      "source": [
        "# 21. Which type of digital strategy (platform and content) would be most effective in making traditional products popular among the youth?"
      ]
    },
    {
      "cell_type": "code",
      "execution_count": 35,
      "metadata": {
        "colab": {
          "base_uri": "https://localhost:8080/"
        },
        "id": "6A_lKV9HIRVe",
        "outputId": "71d0ec99-2c56-4d45-fe70-38dce44ecc0c"
      },
      "outputs": [
        {
          "name": "stdout",
          "output_type": "stream",
          "text": [
            "Proportion of Youth Watching Videos on Platforms like Facebook/YouTube (%):\n",
            "seenVideo    No   Yes\n",
            "age                  \n",
            "18–25      32.5  67.5\n",
            "26–35      14.3  85.7\n",
            "\n",
            "Proportion of Perceived Helpfulness of Digital Promotions Among Youth (%):\n",
            "promoUseful  Extremely helpful  Helpful  Neutral  Not helpful  \\\n",
            "age                                                             \n",
            "18–25                     18.4     50.0     23.7          3.5   \n",
            "26–35                     21.4     42.9     28.6          7.1   \n",
            "\n",
            "promoUseful  Not helpful at all  \n",
            "age                              \n",
            "18–25                       4.4  \n",
            "26–35                       0.0  \n",
            "\n",
            "Proportion of Online Buying Interest Among Youth (%):\n",
            "buyOnline    No   Yes\n",
            "age                  \n",
            "18–25      47.4  52.6\n",
            "26–35      21.4  78.6\n",
            "\n",
            "Proportion of Online Buying Interest by GI Awareness Among Youth (%):\n",
            "buyOnline    No   Yes\n",
            "knowGI               \n",
            "No         40.4  59.6\n",
            "Yes        46.9  53.1\n",
            "\n",
            "Chi-Square Test P-values (Association with Online Buying Interest):\n",
            "Seen Video: 0.0473\n",
            "Promo Usefulness: 0.3556\n",
            "GI Awareness: 0.5979\n"
          ]
        }
      ],
      "source": [
        "# Filter for youth (18–25 and 26–35 age groups)\n",
        "df_youth = df[df['age'].isin(['18–25', '26–35'])]\n",
        "\n",
        "# Crosstabs for digital engagement among youth\n",
        "ct_seen_video = pd.crosstab(df_youth['age'], df_youth['seenVideo'], normalize='index').round(3) * 100\n",
        "ct_promo_useful = pd.crosstab(df_youth['age'], df_youth['promoUseful'], normalize='index').round(3) * 100\n",
        "ct_buy_online = pd.crosstab(df_youth['age'], df_youth['buyOnline'], normalize='index').round(3) * 100\n",
        "\n",
        "# Crosstab for GI awareness vs. buyOnline to infer content impact\n",
        "ct_gi_buy = pd.crosstab(df_youth['knowGI'], df_youth['buyOnline'], normalize='index').round(3) * 100\n",
        "\n",
        "# Chi-square tests to check associations\n",
        "chi2_video, p_video, _, _ = chi2_contingency(pd.crosstab(df_youth['seenVideo'], df_youth['buyOnline']))\n",
        "chi2_promo, p_promo, _, _ = chi2_contingency(pd.crosstab(df_youth['promoUseful'], df_youth['buyOnline']))\n",
        "chi2_gi, p_gi, _, _ = chi2_contingency(pd.crosstab(df_youth['knowGI'], df_youth['buyOnline']))\n",
        "\n",
        "# Display results\n",
        "print(\"Proportion of Youth Watching Videos on Platforms like Facebook/YouTube (%):\")\n",
        "print(ct_seen_video)\n",
        "print(\"\\nProportion of Perceived Helpfulness of Digital Promotions Among Youth (%):\")\n",
        "print(ct_promo_useful)\n",
        "print(\"\\nProportion of Online Buying Interest Among Youth (%):\")\n",
        "print(ct_buy_online)\n",
        "print(\"\\nProportion of Online Buying Interest by GI Awareness Among Youth (%):\")\n",
        "print(ct_gi_buy)\n",
        "print(\"\\nChi-Square Test P-values (Association with Online Buying Interest):\")\n",
        "print(f\"Seen Video: {p_video:.4f}\")\n",
        "print(f\"Promo Usefulness: {p_promo:.4f}\")\n",
        "print(f\"GI Awareness: {p_gi:.4f}\")"
      ]
    }
  ],
  "metadata": {
    "accelerator": "GPU",
    "colab": {
      "gpuType": "T4",
      "provenance": []
    },
    "kernelspec": {
      "display_name": "env",
      "language": "python",
      "name": "python3"
    },
    "language_info": {
      "codemirror_mode": {
        "name": "ipython",
        "version": 3
      },
      "file_extension": ".py",
      "mimetype": "text/x-python",
      "name": "python",
      "nbconvert_exporter": "python",
      "pygments_lexer": "ipython3",
      "version": "3.11.0"
    }
  },
  "nbformat": 4,
  "nbformat_minor": 0
}
