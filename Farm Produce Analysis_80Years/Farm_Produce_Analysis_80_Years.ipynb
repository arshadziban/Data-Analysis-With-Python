{
 "cells": [
  {
   "cell_type": "code",
   "execution_count": 2,
   "id": "e51373d0",
   "metadata": {},
   "outputs": [
    {
     "name": "stderr",
     "output_type": "stream",
     "text": [
      "d:\\Skills\\Data-Analysis-With-Python\\env\\lib\\site-packages\\tqdm\\auto.py:21: TqdmWarning: IProgress not found. Please update jupyter and ipywidgets. See https://ipywidgets.readthedocs.io/en/stable/user_install.html\n",
      "  from .autonotebook import tqdm as notebook_tqdm\n"
     ]
    },
    {
     "name": "stdout",
     "output_type": "stream",
     "text": [
      "Warning: Looks like you're using an outdated `kagglehub` version (installed: 0.3.11), please consider upgrading to the latest version (0.3.12).\n",
      "Path to dataset files: C:\\Users\\Arshad Ziban\\.cache\\kagglehub\\datasets\\aradhanahirapara\\farm-produce-data-80-years\\versions\\2\n"
     ]
    }
   ],
   "source": [
    "import kagglehub\n",
    "\n",
    "# Download latest version\n",
    "path = kagglehub.dataset_download(\"aradhanahirapara/farm-produce-data-80-years\")\n",
    "\n",
    "print(\"Path to dataset files:\", path)"
   ]
  },
  {
   "cell_type": "code",
   "execution_count": 3,
   "id": "50114705",
   "metadata": {},
   "outputs": [
    {
     "name": "stdout",
     "output_type": "stream",
     "text": [
      "Files in the dataset directory:\n",
      "['farm_production_dataset.csv']\n"
     ]
    }
   ],
   "source": [
    "import os\n",
    "\n",
    "# List all files and subfolders in the dataset directory\n",
    "print(\"Files in the dataset directory:\")\n",
    "print(os.listdir(path))"
   ]
  },
  {
   "cell_type": "code",
   "execution_count": 4,
   "id": "62444ee6",
   "metadata": {},
   "outputs": [],
   "source": [
    "import pandas as pd\n",
    "import pandas as pd\n",
    "import numpy as np\n",
    "import matplotlib.pyplot as plt\n",
    "import seaborn as sns\n",
    "# Use the actual file name you found\n",
    "correct_file_name = \"farm_production_dataset.csv\" \n",
    "file_path = os.path.join(path, correct_file_name)"
   ]
  },
  {
   "cell_type": "code",
   "execution_count": 5,
   "id": "0416504e",
   "metadata": {},
   "outputs": [
    {
     "data": {
      "text/html": [
       "<div>\n",
       "<style scoped>\n",
       "    .dataframe tbody tr th:only-of-type {\n",
       "        vertical-align: middle;\n",
       "    }\n",
       "\n",
       "    .dataframe tbody tr th {\n",
       "        vertical-align: top;\n",
       "    }\n",
       "\n",
       "    .dataframe thead th {\n",
       "        text-align: right;\n",
       "    }\n",
       "</style>\n",
       "<table border=\"1\" class=\"dataframe\">\n",
       "  <thead>\n",
       "    <tr style=\"text-align: right;\">\n",
       "      <th></th>\n",
       "      <th>REF_DATE</th>\n",
       "      <th>GEO</th>\n",
       "      <th>Type of crop</th>\n",
       "      <th>Average farm price (dollars per tonne)</th>\n",
       "      <th>Average yield (kilograms per hectare)</th>\n",
       "      <th>Production (metric tonnes)</th>\n",
       "      <th>Seeded area (acres)</th>\n",
       "      <th>Seeded area (hectares)</th>\n",
       "      <th>Total farm value (dollars)</th>\n",
       "    </tr>\n",
       "  </thead>\n",
       "  <tbody>\n",
       "    <tr>\n",
       "      <th>0</th>\n",
       "      <td>1908</td>\n",
       "      <td>AB</td>\n",
       "      <td>Barley</td>\n",
       "      <td>15.00</td>\n",
       "      <td>1585.0</td>\n",
       "      <td>84000.0</td>\n",
       "      <td>129800.0</td>\n",
       "      <td>53000.0</td>\n",
       "      <td>1296</td>\n",
       "    </tr>\n",
       "    <tr>\n",
       "      <th>1</th>\n",
       "      <td>1908</td>\n",
       "      <td>AB</td>\n",
       "      <td>Flaxseed</td>\n",
       "      <td>29.00</td>\n",
       "      <td>950.0</td>\n",
       "      <td>1900.0</td>\n",
       "      <td>5900.0</td>\n",
       "      <td>2000.0</td>\n",
       "      <td>56</td>\n",
       "    </tr>\n",
       "    <tr>\n",
       "      <th>2</th>\n",
       "      <td>1908</td>\n",
       "      <td>AB</td>\n",
       "      <td>Oats</td>\n",
       "      <td>18.00</td>\n",
       "      <td>1675.0</td>\n",
       "      <td>352000.0</td>\n",
       "      <td>519400.0</td>\n",
       "      <td>210000.0</td>\n",
       "      <td>6316</td>\n",
       "    </tr>\n",
       "    <tr>\n",
       "      <th>3</th>\n",
       "      <td>1908</td>\n",
       "      <td>AB</td>\n",
       "      <td>Rye, all</td>\n",
       "      <td>23.00</td>\n",
       "      <td>1665.0</td>\n",
       "      <td>5000.0</td>\n",
       "      <td>6500.0</td>\n",
       "      <td>3000.0</td>\n",
       "      <td>117</td>\n",
       "    </tr>\n",
       "    <tr>\n",
       "      <th>4</th>\n",
       "      <td>1908</td>\n",
       "      <td>AB</td>\n",
       "      <td>Sugar beets</td>\n",
       "      <td>0.55</td>\n",
       "      <td>18100.0</td>\n",
       "      <td>38100.0</td>\n",
       "      <td>5200.0</td>\n",
       "      <td>2100.0</td>\n",
       "      <td>208</td>\n",
       "    </tr>\n",
       "  </tbody>\n",
       "</table>\n",
       "</div>"
      ],
      "text/plain": [
       "   REF_DATE GEO Type of crop  Average farm price (dollars per tonne)  \\\n",
       "0      1908  AB       Barley                                   15.00   \n",
       "1      1908  AB     Flaxseed                                   29.00   \n",
       "2      1908  AB         Oats                                   18.00   \n",
       "3      1908  AB     Rye, all                                   23.00   \n",
       "4      1908  AB  Sugar beets                                    0.55   \n",
       "\n",
       "   Average yield (kilograms per hectare)  Production (metric tonnes)  \\\n",
       "0                                 1585.0                     84000.0   \n",
       "1                                  950.0                      1900.0   \n",
       "2                                 1675.0                    352000.0   \n",
       "3                                 1665.0                      5000.0   \n",
       "4                                18100.0                     38100.0   \n",
       "\n",
       "   Seeded area (acres)  Seeded area (hectares)  Total farm value (dollars)  \n",
       "0             129800.0                 53000.0                        1296  \n",
       "1               5900.0                  2000.0                          56  \n",
       "2             519400.0                210000.0                        6316  \n",
       "3               6500.0                  3000.0                         117  \n",
       "4               5200.0                  2100.0                         208  "
      ]
     },
     "execution_count": 5,
     "metadata": {},
     "output_type": "execute_result"
    }
   ],
   "source": [
    "# Read and show the dataset\n",
    "df = pd.read_csv(file_path)\n",
    "df.head()"
   ]
  },
  {
   "cell_type": "code",
   "execution_count": 6,
   "id": "c215167f",
   "metadata": {},
   "outputs": [
    {
     "data": {
      "text/plain": [
       "REF_DATE                                    0\n",
       "GEO                                         0\n",
       "Type of crop                                1\n",
       "Average farm price (dollars per tonne)     30\n",
       "Average yield (kilograms per hectare)      27\n",
       "Production (metric tonnes)                 28\n",
       "Seeded area (acres)                       400\n",
       "Seeded area (hectares)                    426\n",
       "Total farm value (dollars)                  0\n",
       "dtype: int64"
      ]
     },
     "execution_count": 6,
     "metadata": {},
     "output_type": "execute_result"
    }
   ],
   "source": [
    "df.isnull().sum()"
   ]
  },
  {
   "cell_type": "code",
   "execution_count": 7,
   "id": "32f35908",
   "metadata": {},
   "outputs": [
    {
     "name": "stderr",
     "output_type": "stream",
     "text": [
      "C:\\Users\\Arshad Ziban\\AppData\\Local\\Temp\\ipykernel_20832\\1119480267.py:2: FutureWarning: A value is trying to be set on a copy of a DataFrame or Series through chained assignment using an inplace method.\n",
      "The behavior will change in pandas 3.0. This inplace method will never work because the intermediate object on which we are setting values always behaves as a copy.\n",
      "\n",
      "For example, when doing 'df[col].method(value, inplace=True)', try using 'df.method({col: value}, inplace=True)' or df[col] = df[col].method(value) instead, to perform the operation inplace on the original object.\n",
      "\n",
      "\n",
      "  df[col].fillna(df[col].min(), inplace=True)\n"
     ]
    }
   ],
   "source": [
    "for col in df.select_dtypes(include=np.number).columns:\n",
    "    df[col].fillna(df[col].min(), inplace=True)"
   ]
  },
  {
   "cell_type": "code",
   "execution_count": 8,
   "id": "3edfada3",
   "metadata": {},
   "outputs": [
    {
     "data": {
      "text/plain": [
       "REF_DATE                                  0\n",
       "GEO                                       0\n",
       "Type of crop                              1\n",
       "Average farm price (dollars per tonne)    0\n",
       "Average yield (kilograms per hectare)     0\n",
       "Production (metric tonnes)                0\n",
       "Seeded area (acres)                       0\n",
       "Seeded area (hectares)                    0\n",
       "Total farm value (dollars)                0\n",
       "dtype: int64"
      ]
     },
     "execution_count": 8,
     "metadata": {},
     "output_type": "execute_result"
    }
   ],
   "source": [
    "df.isnull().sum()"
   ]
  },
  {
   "cell_type": "code",
   "execution_count": 13,
   "id": "865a8417",
   "metadata": {},
   "outputs": [
    {
     "data": {
      "text/plain": [
       "np.int64(1908)"
      ]
     },
     "execution_count": 13,
     "metadata": {},
     "output_type": "execute_result"
    }
   ],
   "source": [
    "df['REF_DATE'].min()"
   ]
  },
  {
   "cell_type": "code",
   "execution_count": 14,
   "id": "e802d7de",
   "metadata": {},
   "outputs": [
    {
     "data": {
      "text/plain": [
       "np.int64(1984)"
      ]
     },
     "execution_count": 14,
     "metadata": {},
     "output_type": "execute_result"
    }
   ],
   "source": [
    "df['REF_DATE'].max()"
   ]
  },
  {
   "cell_type": "code",
   "execution_count": 15,
   "id": "68aee9d6",
   "metadata": {},
   "outputs": [
    {
     "data": {
      "text/plain": [
       "array(['AB', 'BC', 'CA', 'MA', 'MP', 'NB', 'NS', 'ON', 'PP', 'PEI', 'QU',\n",
       "       'SK', ' ', 'NL'], dtype=object)"
      ]
     },
     "execution_count": 15,
     "metadata": {},
     "output_type": "execute_result"
    }
   ],
   "source": [
    "#Which provinces are represented?\n",
    "df['GEO'].unique()"
   ]
  },
  {
   "cell_type": "code",
   "execution_count": 16,
   "id": "b3fd9377",
   "metadata": {},
   "outputs": [
    {
     "data": {
      "text/plain": [
       "Type of crop\n",
       "Barley          924\n",
       "Oats            924\n",
       "Wheat, all      924\n",
       "Tame hay        924\n",
       "Mixed grains    914\n",
       "Name: count, dtype: int64"
      ]
     },
     "execution_count": 16,
     "metadata": {},
     "output_type": "execute_result"
    }
   ],
   "source": [
    "#What are the most common crops?\n",
    "df['Type of crop'].value_counts().head(5)"
   ]
  },
  {
   "cell_type": "code",
   "execution_count": 19,
   "id": "544bf4b2",
   "metadata": {},
   "outputs": [
    {
     "data": {
      "image/png": "[encoded data removed]",
      "text/plain": [
       "<Figure size 1200x600 with 1 Axes>"
      ]
     },
     "metadata": {},
     "output_type": "display_data"
    }
   ],
   "source": [
    "#How does production vary by year?\n",
    "plt.figure(figsize=(12,6))\n",
    "df.groupby('REF_DATE')['Production (metric tonnes)'].sum().plot()\n",
    "plt.title(\"Annual Total Production Trend\")\n",
    "plt.ylabel(\"Metric Tonnes\")\n",
    "plt.show()"
   ]
  },
  {
   "cell_type": "code",
   "execution_count": null,
   "id": "2d656fc2",
   "metadata": {},
   "outputs": [],
   "source": []
  }
 ],
 "metadata": {
  "kernelspec": {
   "display_name": "env",
   "language": "python",
   "name": "python3"
  },
  "language_info": {
   "codemirror_mode": {
    "name": "ipython",
    "version": 3
   },
   "file_extension": ".py",
   "mimetype": "text/x-python",
   "name": "python",
   "nbconvert_exporter": "python",
   "pygments_lexer": "ipython3",
   "version": "3.10.6"
  }
 },
 "nbformat": 4,
 "nbformat_minor": 5
}
